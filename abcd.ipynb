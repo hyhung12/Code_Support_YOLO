import os

# Initialize counters for 0s and 1s
count_0 = 0
count_1 = 0
def count_class(file_path):
    global count_0, count_1
    # Open the file
    with open(file_path, 'r') as file:
        # Read each line in the file
        for line in file:
            # Split the line into individual values
            values = line.strip().split()
            
            # Check the first value (assumes it's either 0 or 1)
            if values[0] == '0':
                count_0 += 1
            elif values[0] == '1':
                count_1 += 1



original_folder = r"C:\Users\HP\Downloads\cam12_merge\merge_labels12"

for filename in os.listdir(original_folder):
    file_path = os.path.join(original_folder, filename)
    count_class(file_path)

# Print the counts
# print("Number of 0s:", count_0)
# print("Number of 1s:", count_1)

# f_path = r"C:\Users\HP\Downloads\test_count01\ab.txt"
